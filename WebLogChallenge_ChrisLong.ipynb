{
 "cells": [
  {
   "cell_type": "code",
   "execution_count": 1,
   "metadata": {},
   "outputs": [],
   "source": [
    "import datetime\n",
    "import gzip\n",
    "import os\n",
    "import re\n",
    "import shutil\n",
    "import zipfile\n",
    "\n",
    "import numpy as np\n",
    "import pandas as pd\n",
    "\n",
    "import tools"
   ]
  },
  {
   "cell_type": "code",
   "execution_count": 2,
   "metadata": {},
   "outputs": [],
   "source": [
    "filename = '2015_07_22_mktplace_shop_web_log_sample.log'"
   ]
  },
  {
   "cell_type": "markdown",
   "metadata": {},
   "source": [
    "###### Expects the unpacked log file to be in same directory, if not, then unpack from data/ directory\n"
   ]
  },
  {
   "cell_type": "code",
   "execution_count": 3,
   "metadata": {},
   "outputs": [],
   "source": [
    "tools.extract_file(filename)"
   ]
  },
  {
   "cell_type": "markdown",
   "metadata": {},
   "source": [
    "###### Read all lines into memory"
   ]
  },
  {
   "cell_type": "code",
   "execution_count": 4,
   "metadata": {},
   "outputs": [],
   "source": [
    "with open(filename) as fin:\n",
    "    lines = fin.readlines()"
   ]
  },
  {
   "cell_type": "code",
   "execution_count": 5,
   "metadata": {},
   "outputs": [
    {
     "data": {
      "text/plain": [
       "1158500"
      ]
     },
     "execution_count": 5,
     "metadata": {},
     "output_type": "execute_result"
    }
   ],
   "source": [
    "len(lines)"
   ]
  },
  {
   "cell_type": "markdown",
   "metadata": {},
   "source": [
    "###### Match regex, parse each entry into dict, and perform quick sanity test"
   ]
  },
  {
   "cell_type": "code",
   "execution_count": 6,
   "metadata": {},
   "outputs": [],
   "source": [
    "parsed_entries = [tools.parse_elb(l) for l in lines]\n",
    "\n",
    "assert len(lines) == len(parsed_entries)\n",
    "assert(l != None for l in lines)"
   ]
  },
  {
   "cell_type": "code",
   "execution_count": null,
   "metadata": {},
   "outputs": [],
   "source": []
  },
  {
   "cell_type": "markdown",
   "metadata": {},
   "source": [
    "##### Convert parsed entries into pandas DataFrame for analytics"
   ]
  },
  {
   "cell_type": "code",
   "execution_count": 7,
   "metadata": {},
   "outputs": [],
   "source": [
    "batchdf = pd.DataFrame(parsed_entries, columns=tools.ELBHEADERS)\n",
    "batchdf['timestamp'] = pd.to_datetime(batchdf['timestamp'])"
   ]
  },
  {
   "cell_type": "code",
   "execution_count": null,
   "metadata": {},
   "outputs": [],
   "source": []
  },
  {
   "cell_type": "markdown",
   "metadata": {},
   "source": [
    "# 1. Sessionize the web log by IP. Sessionize = aggregrate all page hits by visitor/IP during a session. https://en.wikipedia.org/wiki/Session_(web_analytics)\n",
    "\n",
    "###### Approach:\n",
    "###### 1. Sort by timestamp\n",
    "###### 2. Group by client_ip and perform delta on timestamps\n",
    "###### 3. For any row where timestamp delta >= 15 minutes, mark row as the first hit of a new session\n",
    "###### 4. Create session_id based on format [ip]_[count]\n"
   ]
  },
  {
   "cell_type": "code",
   "execution_count": 8,
   "metadata": {},
   "outputs": [],
   "source": [
    "session_df = tools.construct_sessions(batchdf)"
   ]
  },
  {
   "cell_type": "code",
   "execution_count": 9,
   "metadata": {},
   "outputs": [
    {
     "data": {
      "text/html": [
       "<div>\n",
       "<style scoped>\n",
       "    .dataframe tbody tr th:only-of-type {\n",
       "        vertical-align: middle;\n",
       "    }\n",
       "\n",
       "    .dataframe tbody tr th {\n",
       "        vertical-align: top;\n",
       "    }\n",
       "\n",
       "    .dataframe thead th {\n",
       "        text-align: right;\n",
       "    }\n",
       "</style>\n",
       "<table border=\"1\" class=\"dataframe\">\n",
       "  <thead>\n",
       "    <tr style=\"text-align: right;\">\n",
       "      <th></th>\n",
       "      <th>timestamp</th>\n",
       "      <th>client_ip</th>\n",
       "      <th>diff</th>\n",
       "      <th>request_url</th>\n",
       "      <th>is_new_session</th>\n",
       "      <th>session_count</th>\n",
       "      <th>session_id</th>\n",
       "    </tr>\n",
       "  </thead>\n",
       "  <tbody>\n",
       "    <tr>\n",
       "      <th>359679</th>\n",
       "      <td>2015-07-22 02:40:06.499174+00:00</td>\n",
       "      <td>106.51.235.133</td>\n",
       "      <td>00:00:00</td>\n",
       "      <td>https://paytm.com:443/shop/wallet/txnhistory?p...</td>\n",
       "      <td>0</td>\n",
       "      <td>0</td>\n",
       "      <td>106.51.235.133_0</td>\n",
       "    </tr>\n",
       "    <tr>\n",
       "      <th>359690</th>\n",
       "      <td>2015-07-22 02:40:06.632589+00:00</td>\n",
       "      <td>115.250.16.146</td>\n",
       "      <td>00:00:00</td>\n",
       "      <td>https://paytm.com:443/shop/wallet/balance?chan...</td>\n",
       "      <td>0</td>\n",
       "      <td>0</td>\n",
       "      <td>115.250.16.146_0</td>\n",
       "    </tr>\n",
       "    <tr>\n",
       "      <th>359676</th>\n",
       "      <td>2015-07-22 02:40:06.633226+00:00</td>\n",
       "      <td>106.51.235.133</td>\n",
       "      <td>00:00:00.134052</td>\n",
       "      <td>https://paytm.com:443/shop/wallet/balance?chan...</td>\n",
       "      <td>0</td>\n",
       "      <td>0</td>\n",
       "      <td>106.51.235.133_0</td>\n",
       "    </tr>\n",
       "    <tr>\n",
       "      <th>359677</th>\n",
       "      <td>2015-07-22 02:40:06.700160+00:00</td>\n",
       "      <td>52.74.219.71</td>\n",
       "      <td>00:00:00</td>\n",
       "      <td>https://paytm.com:443/papi/v1/promosearch/prod...</td>\n",
       "      <td>0</td>\n",
       "      <td>0</td>\n",
       "      <td>52.74.219.71_0</td>\n",
       "    </tr>\n",
       "    <tr>\n",
       "      <th>359678</th>\n",
       "      <td>2015-07-22 02:40:06.734226+00:00</td>\n",
       "      <td>27.97.124.172</td>\n",
       "      <td>00:00:00</td>\n",
       "      <td>https://paytm.com:443/coupons</td>\n",
       "      <td>0</td>\n",
       "      <td>0</td>\n",
       "      <td>27.97.124.172_0</td>\n",
       "    </tr>\n",
       "  </tbody>\n",
       "</table>\n",
       "</div>"
      ],
      "text/plain": [
       "                              timestamp       client_ip            diff  \\\n",
       "359679 2015-07-22 02:40:06.499174+00:00  106.51.235.133        00:00:00   \n",
       "359690 2015-07-22 02:40:06.632589+00:00  115.250.16.146        00:00:00   \n",
       "359676 2015-07-22 02:40:06.633226+00:00  106.51.235.133 00:00:00.134052   \n",
       "359677 2015-07-22 02:40:06.700160+00:00    52.74.219.71        00:00:00   \n",
       "359678 2015-07-22 02:40:06.734226+00:00   27.97.124.172        00:00:00   \n",
       "\n",
       "                                              request_url  is_new_session  \\\n",
       "359679  https://paytm.com:443/shop/wallet/txnhistory?p...               0   \n",
       "359690  https://paytm.com:443/shop/wallet/balance?chan...               0   \n",
       "359676  https://paytm.com:443/shop/wallet/balance?chan...               0   \n",
       "359677  https://paytm.com:443/papi/v1/promosearch/prod...               0   \n",
       "359678                      https://paytm.com:443/coupons               0   \n",
       "\n",
       "        session_count        session_id  \n",
       "359679              0  106.51.235.133_0  \n",
       "359690              0  115.250.16.146_0  \n",
       "359676              0  106.51.235.133_0  \n",
       "359677              0    52.74.219.71_0  \n",
       "359678              0   27.97.124.172_0  "
      ]
     },
     "execution_count": 9,
     "metadata": {},
     "output_type": "execute_result"
    }
   ],
   "source": [
    "session_df.head()"
   ]
  },
  {
   "cell_type": "code",
   "execution_count": null,
   "metadata": {},
   "outputs": [],
   "source": []
  },
  {
   "cell_type": "markdown",
   "metadata": {},
   "source": [
    "# Q2: Determine the average session time\n",
    "\n",
    "###### Approach:\n",
    "###### 1. Group by session_id and perform cumsum() over timestamp diffs, thus the last entry of a session_id group is the total length of the session\n",
    "###### 2. Collapse each session_id group to keep only the last entry\n",
    "###### 3. Group by client_ip and perform mean(), std(), and sum() over the length of sessions per client_ip"
   ]
  },
  {
   "cell_type": "code",
   "execution_count": 10,
   "metadata": {},
   "outputs": [],
   "source": [
    "session_df = tools.build_session_lengths(session_df)"
   ]
  },
  {
   "cell_type": "code",
   "execution_count": 11,
   "metadata": {},
   "outputs": [],
   "source": [
    "statsdf = session_df[['client_ip','session_id','session_count','session_diff','session_length']]"
   ]
  },
  {
   "cell_type": "code",
   "execution_count": 12,
   "metadata": {},
   "outputs": [],
   "source": [
    "merged = tools.build_stats(statsdf)"
   ]
  },
  {
   "cell_type": "code",
   "execution_count": 13,
   "metadata": {},
   "outputs": [
    {
     "data": {
      "text/html": [
       "<div>\n",
       "<style scoped>\n",
       "    .dataframe tbody tr th:only-of-type {\n",
       "        vertical-align: middle;\n",
       "    }\n",
       "\n",
       "    .dataframe tbody tr th {\n",
       "        vertical-align: top;\n",
       "    }\n",
       "\n",
       "    .dataframe thead th {\n",
       "        text-align: right;\n",
       "    }\n",
       "</style>\n",
       "<table border=\"1\" class=\"dataframe\">\n",
       "  <thead>\n",
       "    <tr style=\"text-align: right;\">\n",
       "      <th></th>\n",
       "      <th>client_ip</th>\n",
       "      <th>session_id</th>\n",
       "      <th>session_count</th>\n",
       "      <th>session_diff</th>\n",
       "      <th>session_length</th>\n",
       "      <th>mean</th>\n",
       "      <th>std</th>\n",
       "      <th>total</th>\n",
       "    </tr>\n",
       "  </thead>\n",
       "  <tbody>\n",
       "    <tr>\n",
       "      <th>0</th>\n",
       "      <td>1.186.101.79</td>\n",
       "      <td>1.186.101.79_0</td>\n",
       "      <td>0</td>\n",
       "      <td>00:00:00.003948</td>\n",
       "      <td>00:18:37.542721</td>\n",
       "      <td>00:18:37.542721</td>\n",
       "      <td>NaT</td>\n",
       "      <td>00:18:37.542721</td>\n",
       "    </tr>\n",
       "    <tr>\n",
       "      <th>1</th>\n",
       "      <td>1.186.103.240</td>\n",
       "      <td>1.186.103.240_0</td>\n",
       "      <td>0</td>\n",
       "      <td>00:00:00.083478</td>\n",
       "      <td>00:00:11.611017</td>\n",
       "      <td>00:00:11.611017</td>\n",
       "      <td>NaT</td>\n",
       "      <td>00:00:11.611017</td>\n",
       "    </tr>\n",
       "    <tr>\n",
       "      <th>2</th>\n",
       "      <td>1.186.103.78</td>\n",
       "      <td>1.186.103.78_0</td>\n",
       "      <td>0</td>\n",
       "      <td>00:00:00.224246</td>\n",
       "      <td>00:00:09.000485</td>\n",
       "      <td>00:00:09.000485</td>\n",
       "      <td>NaT</td>\n",
       "      <td>00:00:09.000485</td>\n",
       "    </tr>\n",
       "    <tr>\n",
       "      <th>3</th>\n",
       "      <td>1.186.108.213</td>\n",
       "      <td>1.186.108.213_0</td>\n",
       "      <td>0</td>\n",
       "      <td>00:01:52.907065</td>\n",
       "      <td>00:01:52.907065</td>\n",
       "      <td>00:01:52.907065</td>\n",
       "      <td>NaT</td>\n",
       "      <td>00:01:52.907065</td>\n",
       "    </tr>\n",
       "    <tr>\n",
       "      <th>4</th>\n",
       "      <td>1.186.108.230</td>\n",
       "      <td>1.186.108.230_0</td>\n",
       "      <td>0</td>\n",
       "      <td>00:00:09.164021</td>\n",
       "      <td>00:00:18.815206</td>\n",
       "      <td>00:00:18.815206</td>\n",
       "      <td>NaT</td>\n",
       "      <td>00:00:18.815206</td>\n",
       "    </tr>\n",
       "  </tbody>\n",
       "</table>\n",
       "</div>"
      ],
      "text/plain": [
       "       client_ip       session_id  session_count    session_diff  \\\n",
       "0   1.186.101.79   1.186.101.79_0              0 00:00:00.003948   \n",
       "1  1.186.103.240  1.186.103.240_0              0 00:00:00.083478   \n",
       "2   1.186.103.78   1.186.103.78_0              0 00:00:00.224246   \n",
       "3  1.186.108.213  1.186.108.213_0              0 00:01:52.907065   \n",
       "4  1.186.108.230  1.186.108.230_0              0 00:00:09.164021   \n",
       "\n",
       "   session_length            mean std           total  \n",
       "0 00:18:37.542721 00:18:37.542721 NaT 00:18:37.542721  \n",
       "1 00:00:11.611017 00:00:11.611017 NaT 00:00:11.611017  \n",
       "2 00:00:09.000485 00:00:09.000485 NaT 00:00:09.000485  \n",
       "3 00:01:52.907065 00:01:52.907065 NaT 00:01:52.907065  \n",
       "4 00:00:18.815206 00:00:18.815206 NaT 00:00:18.815206  "
      ]
     },
     "execution_count": 13,
     "metadata": {},
     "output_type": "execute_result"
    }
   ],
   "source": [
    "merged.head()"
   ]
  },
  {
   "cell_type": "code",
   "execution_count": null,
   "metadata": {},
   "outputs": [],
   "source": []
  },
  {
   "cell_type": "markdown",
   "metadata": {},
   "source": [
    "# Q3: Determine unique URL visits per session. To clarify, count a hit to a unique URL only once per session.\n",
    "\n",
    "###### Approach:\n",
    "###### 1. Group by session_id and count unique on request_url column"
   ]
  },
  {
   "cell_type": "code",
   "execution_count": 14,
   "metadata": {},
   "outputs": [],
   "source": [
    "unique_url = session_df[['client_ip','request_url','session_id']]"
   ]
  },
  {
   "cell_type": "code",
   "execution_count": null,
   "metadata": {},
   "outputs": [],
   "source": [
    "urldf = tools.build_url_stats(unique_url)"
   ]
  },
  {
   "cell_type": "code",
   "execution_count": null,
   "metadata": {},
   "outputs": [],
   "source": [
    "urldf.head()"
   ]
  },
  {
   "cell_type": "code",
   "execution_count": null,
   "metadata": {},
   "outputs": [],
   "source": []
  },
  {
   "cell_type": "markdown",
   "metadata": {},
   "source": [
    "# Q4a: Find the most engaged users - Longest session times\n",
    "\n",
    "###### Approach:\n",
    "###### 1. Perform naive ranking on total length of sessions based on client_ip\n"
   ]
  },
  {
   "cell_type": "code",
   "execution_count": null,
   "metadata": {},
   "outputs": [],
   "source": [
    "rankings = merged[['client_ip','session_count','total']]"
   ]
  },
  {
   "cell_type": "code",
   "execution_count": null,
   "metadata": {},
   "outputs": [],
   "source": [
    "rankings.session_count+=1"
   ]
  },
  {
   "cell_type": "code",
   "execution_count": null,
   "metadata": {},
   "outputs": [],
   "source": [
    "rankings = rankings.sort_values(['total'],ascending=[False])"
   ]
  },
  {
   "cell_type": "code",
   "execution_count": null,
   "metadata": {},
   "outputs": [],
   "source": [
    "rankings.head()"
   ]
  },
  {
   "cell_type": "code",
   "execution_count": null,
   "metadata": {},
   "outputs": [],
   "source": []
  },
  {
   "cell_type": "markdown",
   "metadata": {},
   "source": [
    "# Q4b: Find the most engaged users - session count/mean/stddev based approach\n",
    "\n",
    "###### Approach:\n",
    "###### 1. Rank engagement based on session count, mean session times, stddev of session times"
   ]
  },
  {
   "cell_type": "code",
   "execution_count": null,
   "metadata": {},
   "outputs": [],
   "source": [
    "rankings = merged[['client_ip','session_count','mean','std']]"
   ]
  },
  {
   "cell_type": "code",
   "execution_count": null,
   "metadata": {},
   "outputs": [],
   "source": [
    "rankings.session_count+=1"
   ]
  },
  {
   "cell_type": "code",
   "execution_count": null,
   "metadata": {},
   "outputs": [],
   "source": [
    "rankings = rankings.sort_values(['session_count','mean','std'], ascending=[False,False,True])"
   ]
  },
  {
   "cell_type": "code",
   "execution_count": null,
   "metadata": {},
   "outputs": [],
   "source": [
    "rankings[rankings['client_ip'] == '122.248.163.2']"
   ]
  },
  {
   "cell_type": "code",
   "execution_count": null,
   "metadata": {},
   "outputs": [],
   "source": [
    "rankings.head()"
   ]
  },
  {
   "cell_type": "code",
   "execution_count": null,
   "metadata": {},
   "outputs": [],
   "source": []
  }
 ],
 "metadata": {
  "kernelspec": {
   "display_name": "Python 3",
   "language": "python",
   "name": "python3"
  },
  "language_info": {
   "codemirror_mode": {
    "name": "ipython",
    "version": 3
   },
   "file_extension": ".py",
   "mimetype": "text/x-python",
   "name": "python",
   "nbconvert_exporter": "python",
   "pygments_lexer": "ipython3",
   "version": "3.6.5"
  }
 },
 "nbformat": 4,
 "nbformat_minor": 2
}
